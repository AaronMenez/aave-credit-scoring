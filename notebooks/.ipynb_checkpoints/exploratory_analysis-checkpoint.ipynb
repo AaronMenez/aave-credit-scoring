{
 "cells": [
  {
   "cell_type": "code",
   "execution_count": 3,
   "id": "cd3e41cf-4a12-4d31-a5a2-097e94f062e2",
   "metadata": {},
   "outputs": [
    {
     "ename": "FileNotFoundError",
     "evalue": "[Errno 2] No such file or directory: '../data/user_transactions.json'",
     "output_type": "error",
     "traceback": [
      "\u001b[1;31m---------------------------------------------------------------------------\u001b[0m",
      "\u001b[1;31mFileNotFoundError\u001b[0m                         Traceback (most recent call last)",
      "Cell \u001b[1;32mIn[3], line 9\u001b[0m\n\u001b[0;32m      5\u001b[0m \u001b[38;5;28;01mfrom\u001b[39;00m \u001b[38;5;21;01mfeature_engineering\u001b[39;00m \u001b[38;5;28;01mimport\u001b[39;00m load_json_transactions, aggregate_wallet_features\n\u001b[0;32m      6\u001b[0m \u001b[38;5;28;01mfrom\u001b[39;00m \u001b[38;5;21;01mscoring_model\u001b[39;00m \u001b[38;5;28;01mimport\u001b[39;00m train_model\n\u001b[1;32m----> 9\u001b[0m df \u001b[38;5;241m=\u001b[39m \u001b[43mload_json_transactions\u001b[49m\u001b[43m(\u001b[49m\u001b[38;5;124;43m\"\u001b[39;49m\u001b[38;5;124;43m../data/user_transactions.json\u001b[39;49m\u001b[38;5;124;43m\"\u001b[39;49m\u001b[43m)\u001b[49m\n\u001b[0;32m     10\u001b[0m features \u001b[38;5;241m=\u001b[39m aggregate_wallet_features(df)\n\u001b[0;32m     12\u001b[0m \u001b[38;5;66;03m# TEMP: Dummy target (e.g., higher score = fewer liquidations)\u001b[39;00m\n",
      "File \u001b[1;32m~\\aave-credit-scoring\\src\\feature_engineering.py:6\u001b[0m, in \u001b[0;36mload_json_transactions\u001b[1;34m(file_path)\u001b[0m\n\u001b[0;32m      5\u001b[0m \u001b[38;5;28;01mdef\u001b[39;00m \u001b[38;5;21mload_json_transactions\u001b[39m(file_path):\n\u001b[1;32m----> 6\u001b[0m     \u001b[38;5;28;01mwith\u001b[39;00m \u001b[38;5;28;43mopen\u001b[39;49m\u001b[43m(\u001b[49m\u001b[43mfile_path\u001b[49m\u001b[43m,\u001b[49m\u001b[43m \u001b[49m\u001b[38;5;124;43m'\u001b[39;49m\u001b[38;5;124;43mr\u001b[39;49m\u001b[38;5;124;43m'\u001b[39;49m\u001b[43m)\u001b[49m \u001b[38;5;28;01mas\u001b[39;00m f:\n\u001b[0;32m      7\u001b[0m         raw_data \u001b[38;5;241m=\u001b[39m json\u001b[38;5;241m.\u001b[39mload(f)\n\u001b[0;32m      8\u001b[0m     \u001b[38;5;28;01mreturn\u001b[39;00m pd\u001b[38;5;241m.\u001b[39mjson_normalize(raw_data)\n",
      "\u001b[1;31mFileNotFoundError\u001b[0m: [Errno 2] No such file or directory: '../data/user_transactions.json'"
     ]
    }
   ],
   "source": [
    "import sys\n",
    "import os\n",
    "sys.path.append(os.path.abspath(\"../src\"))\n",
    "\n",
    "from feature_engineering import load_json_transactions, aggregate_wallet_features\n",
    "from scoring_model import train_model\n",
    "\n",
    "\n",
    "df = load_json_transactions(\"../data/user-wallet-transactions.json\")\n",
    "features = aggregate_wallet_features(df)\n",
    "\n",
    "# TEMP: Dummy target (e.g., higher score = fewer liquidations)\n",
    "features[\"target\"] = 1000 - features[\"n_liquidations\"] * 100\n",
    "X = features.drop(columns=[\"wallet\", \"target\"])\n",
    "y = features[\"target\"]\n",
    "\n",
    "train_model(X, y)  # saves model.pkl\n"
   ]
  },
  {
   "cell_type": "code",
   "execution_count": null,
   "id": "9e3faed8-6f7d-4f38-a4bd-a9035eab14b8",
   "metadata": {},
   "outputs": [],
   "source": []
  }
 ],
 "metadata": {
  "kernelspec": {
   "display_name": "Python 3 (ipykernel)",
   "language": "python",
   "name": "python3"
  },
  "language_info": {
   "codemirror_mode": {
    "name": "ipython",
    "version": 3
   },
   "file_extension": ".py",
   "mimetype": "text/x-python",
   "name": "python",
   "nbconvert_exporter": "python",
   "pygments_lexer": "ipython3",
   "version": "3.12.6"
  }
 },
 "nbformat": 4,
 "nbformat_minor": 5
}
